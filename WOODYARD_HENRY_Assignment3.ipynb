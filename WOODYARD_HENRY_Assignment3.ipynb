{
 "cells": [
  {
   "cell_type": "markdown",
   "metadata": {},
   "source": [
    "# Assignment 3 - SQL\n",
    "* Henry Woodyard"
   ]
  },
  {
   "cell_type": "code",
   "execution_count": null,
   "metadata": {},
   "outputs": [],
   "source": [
    "import os\n",
    "import sqlite3\n",
    "soccerConnection = sqlite3.connect('database.sqlite')\n",
    "cursorObj = soccerConnection.cursor()"
   ]
  },
  {
   "cell_type": "markdown",
   "metadata": {},
   "source": [
    "# Question 1\n",
    "Write a SQL query that lists all the players born between 1987 and 1990 inclusive, sort them from the oldest to the youngest"
   ]
  },
  {
   "cell_type": "code",
   "execution_count": null,
   "metadata": {},
   "outputs": [],
   "source": [
    "cursorObj.execute(\"SELECT player_name AS 'Player Name', birthday AS 'Birthday' \\\n",
    "                   FROM Player \\\n",
    "                   WHERE birthday BETWEEN '1987-01-01' AND '1990-12-31' \\\n",
    "                   ORDER BY birthday\")\n",
    "print(list(map(lambda entry: entry[0], cursorObj.description)))\n",
    "for row in cursorObj.fetchall():\n",
    "    print(row)"
   ]
  },
  {
   "cell_type": "markdown",
   "metadata": {},
   "source": [
    "# Question 2\n",
    "Write a SQL query that ranks all countries and leagues based on the total\n",
    "amount of total goals scored per game in the whole dataset. Sort them by the largest to the smallest\n",
    "amount of goals. Note: Read this carefully.\n"
   ]
  },
  {
   "cell_type": "code",
   "execution_count": null,
   "metadata": {},
   "outputs": [],
   "source": [
    "cursorObj.execute(\"SELECT C.name AS 'Country Name', L.name AS 'League Name', SUM(M.home_team_goal + M.away_team_goal) AS 'Total Goals Scored' \\\n",
    "                   FROM Match AS M, Country AS C, League AS L \\\n",
    "                   WHERE M.country_id = C.id AND M.league_id = L.id \\\n",
    "                   GROUP BY M.country_id \\\n",
    "                   ORDER BY `Total Goals Scored` DESC \\\n",
    "                   LIMIT 10;\")\n",
    "print(list(map(lambda entry: entry[0], cursorObj.description)))\n",
    "for row in cursorObj.fetchall():\n",
    "    print(row)"
   ]
  },
  {
   "cell_type": "markdown",
   "metadata": {},
   "source": [
    "# Question 3\n",
    "Write a SQL query that ranks all teams by the average of all their attributes (not\n",
    "the players' attributes), sort them from best to worst."
   ]
  },
  {
   "cell_type": "code",
   "execution_count": null,
   "metadata": {
    "scrolled": true
   },
   "outputs": [],
   "source": [
    "cursorObj.execute(\"SELECT T.team_long_name AS 'Team Long Name', AVG((TA.buildUpPlaySpeed + TA.buildUpPlayPassing + TA.chanceCreationPassing + TA.chanceCreationCrossing + TA.chanceCreationShooting + TA.defencePressure + TA.defenceAggression + TA.defenceTeamWidth)/8) AS 'Average of Attributes' \\\n",
    "                   FROM Team_Attributes AS TA, Team AS T \\\n",
    "                   WHERE T.team_api_id = TA.team_api_id \\\n",
    "                   GROUP BY TA.team_api_id \\\n",
    "                   ORDER BY `Average of Attributes` DESC;\")\n",
    "print(list(map(lambda entry: entry[0], cursorObj.description)))\n",
    "for row in cursorObj.fetchall():\n",
    "    print(row)"
   ]
  },
  {
   "cell_type": "markdown",
   "metadata": {},
   "source": [
    "# Question 4\n",
    "Write a SQL query that ranks all teams by the average of their players'\n",
    "attributes, sort them by descending order displaying only the top 5. The output of this query should be\n",
    "of the form:\n"
   ]
  },
  {
   "cell_type": "code",
   "execution_count": null,
   "metadata": {
    "scrolled": true
   },
   "outputs": [],
   "source": [
    "cursorObj.execute(\"SELECT T.team_long_name AS 'Team Name', NULL AS 'Number of Players', AVG((TA.buildUpPlaySpeed + TA.buildUpPlayPassing + TA.chanceCreationPassing + TA.chanceCreationCrossing + TA.chanceCreationShooting + TA.defencePressure + TA.defenceAggression + TA.defenceTeamWidth)/8) AS 'Player Attribute Average' \\\n",
    "                   FROM Team_Attributes AS TA, Team AS T \\\n",
    "                   WHERE T.team_api_id = TA.team_api_id \\\n",
    "                   GROUP BY TA.team_api_id \\\n",
    "                   ORDER BY `Player Attribute Average` DESC \\\n",
    "                   LIMIT 5;\")\n",
    "print(list(map(lambda entry: entry[0], cursorObj.description)))\n",
    "for row in cursorObj.fetchall():\n",
    "    print(row)"
   ]
  },
  {
   "cell_type": "markdown",
   "metadata": {},
   "source": [
    "# Question 5\n",
    "Write a SINGLE SQL query that finds the date that had the most goals scored on,\n",
    "per each different season and league.\n"
   ]
  },
  {
   "cell_type": "code",
   "execution_count": null,
   "metadata": {},
   "outputs": [],
   "source": [
    "cursorObj.execute(\"SELECT STRFTIME('%d-%m-%Y', date) AS 'Date', season AS 'Season', name AS 'League Name', MAX(home_team_goal + away_team_goal) AS 'Goals scored' \\\n",
    "                   FROM Match, League AS L \\\n",
    "                   WHERE league_id == L.id \\\n",
    "                   GROUP BY Season, `League Name`\")\n",
    "print(list(map(lambda entry: entry[0], cursorObj.description)))\n",
    "for row in cursorObj.fetchall():\n",
    "    print(row)"
   ]
  },
  {
   "cell_type": "markdown",
   "metadata": {},
   "source": [
    "# Question 6\n",
    "Write a SINGLE SQL query that finds the top 5 teams in terms of\n",
    "goals scored PER league for the 2008/2009 season.\n"
   ]
  },
  {
   "cell_type": "code",
   "execution_count": null,
   "metadata": {},
   "outputs": [],
   "source": [
    "# The innermost nested subquery gets the goals scored per match by each team using a boolean for whether it was the home team or away team.\n",
    "# The next subquery ranks the teams within the leagues.\n",
    "# The outside query renames variables and subsets to take only the top 5 teams.\n",
    "\n",
    "# The pdf version ruins the formatting. Sorry for the confusion.\n",
    "\n",
    "cursorObj.execute(\" SELECT '2008/2009' AS 'Season', L.name AS 'League', 'Rank', h.team_long_name AS 'Team Name',  h.goals AS 'Goals Scored' \\\n",
    "                    FROM \\\n",
    "                    ( \\\n",
    "                        SELECT g.team_long_name, g.league_id, g.goals, RANK() OVER (PARTITION BY g.league_id ORDER BY g.goals DESC) as 'Rank' \\\n",
    "                        FROM \\\n",
    "                            ( \\\n",
    "                            SELECT team_long_name, team_api_id, league_id, SUM((team_api_id == home_team_api_id) * home_team_goal + (1 - (team_api_id == home_team_api_id)) * away_team_goal) AS goals \\\n",
    "                            FROM Team, Match AS M \\\n",
    "                            WHERE team_api_id == home_team_api_id OR team_api_id == away_team_api_id AND season == '2008/2009' \\\n",
    "                            GROUP BY team_long_name \\\n",
    "                            ORDER BY league_id, goals DESC \\\n",
    "                            ) AS g \\\n",
    "                     ) AS h, League AS L \\\n",
    "                    WHERE h.'Rank' <= 5 AND L.id == h.league_id\") \\\n",
    "\n",
    "print(list(map(lambda entry: entry[0], cursorObj.description)))\n",
    "for row in cursorObj.fetchall():\n",
    "    print(row)"
   ]
  }
 ],
 "metadata": {
  "kernelspec": {
   "display_name": "Python 3",
   "language": "python",
   "name": "python3"
  },
  "language_info": {
   "codemirror_mode": {
    "name": "ipython",
    "version": 3
   },
   "file_extension": ".py",
   "mimetype": "text/x-python",
   "name": "python",
   "nbconvert_exporter": "python",
   "pygments_lexer": "ipython3",
   "version": "3.6.3"
  }
 },
 "nbformat": 4,
 "nbformat_minor": 2
}
